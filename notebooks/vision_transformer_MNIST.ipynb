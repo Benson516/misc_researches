{
 "cells": [
  {
   "cell_type": "markdown",
   "id": "f1f40d7f",
   "metadata": {},
   "source": [
    "# Vision Transformer (ViT) for MNIST\n",
    "\n",
    "In this notebook, we test a ViT implementation with MNIST dataset."
   ]
  },
  {
   "cell_type": "code",
   "execution_count": 1,
   "id": "0e651b0c",
   "metadata": {},
   "outputs": [],
   "source": [
    "import torch\n",
    "import torchvision\n",
    "# vit-pytorch\n",
    "from vit_pytorch import ViT\n",
    "#\n",
    "import numpy as np\n",
    "#\n",
    "import tqdm\n",
    "import time\n",
    "# Matplotlib\n",
    "import matplotlib.pyplot as plt\n",
    "%matplotlib inline"
   ]
  },
  {
   "cell_type": "markdown",
   "id": "145e44ef",
   "metadata": {},
   "source": [
    "## Loading the MNIST dataset"
   ]
  },
  {
   "cell_type": "code",
   "execution_count": 2,
   "id": "b99a591b",
   "metadata": {},
   "outputs": [],
   "source": [
    "torch.manual_seed(42)\n",
    "\n",
    "DOWNLOAD_PATH = \"./data/mnist\"\n",
    "BATCH_SIZE_TRAIN = 100\n",
    "BATCH_SIZE_TEST  = 100\n",
    "\n",
    "transform = torchvision.transforms.ToTensor()\n",
    "# transform = torchvision.transforms.Compose([torchvision.transforms.ToTensor(),\n",
    "#                                             torchvision.transforms.Normalize([0.1307,], [0.3081,])])\n",
    "\n",
    "# Dataset\n",
    "train_set = torchvision.datasets.FashionMNIST(DOWNLOAD_PATH, train=True, download=True,\n",
    "                                       transform=transform)\n",
    "test_set  = torchvision.datasets.FashionMNIST(DOWNLOAD_PATH, train=False, download=True,\n",
    "                                       transform=transform)\n",
    "# Dataloader\n",
    "train_loader = torch.utils.data.DataLoader(train_set, batch_size=BATCH_SIZE_TRAIN, shuffle=True)\n",
    "test_loader  = torch.utils.data.DataLoader(test_set,  batch_size=BATCH_SIZE_TEST,  shuffle=True)"
   ]
  },
  {
   "cell_type": "markdown",
   "id": "021275e8",
   "metadata": {},
   "source": [
    "## Training and Evaluation Functions"
   ]
  },
  {
   "cell_type": "code",
   "execution_count": 3,
   "id": "7e9e6d03",
   "metadata": {},
   "outputs": [],
   "source": [
    "# Traning functino for one epoch\n",
    "def train_epoch(model, optimizer, loss_fn, data_loader, loss_history):\n",
    "    total_samples = len(data_loader.dataset)\n",
    "    \n",
    "    model.train() # Enter the training mode\n",
    "    \n",
    "    train_loss = 0\n",
    "    \n",
    "    pbar = tqdm.tqdm(data_loader)\n",
    "    for batch_idx, (data, target) in enumerate(pbar):\n",
    "        optimizer.zero_grad()\n",
    "        output = model(data)\n",
    "        loss = loss_fn(output, target)\n",
    "        loss.backward()\n",
    "        optimizer.step()\n",
    "        \n",
    "        # Update the train_loss\n",
    "        train_loss = 1./(batch_idx+1) * (batch_idx*train_loss + loss.data.item())\n",
    "        # Display\n",
    "        pbar.set_description(\"Current training loss %.4f\" % train_loss)\n",
    "        \n",
    "        if batch_idx % 100 == 0:\n",
    "            loss_history.append(loss.item())\n",
    "    \n",
    "    print(f'\\nAverage training loss: {train_loss :.4f}')"
   ]
  },
  {
   "cell_type": "code",
   "execution_count": 4,
   "id": "e6e50295",
   "metadata": {},
   "outputs": [],
   "source": [
    "# Evaluation function\n",
    "def evaluate(model, loss_fn, data_loader, loss_history):\n",
    "    model.eval() # Enter the evaluation mode\n",
    "    \n",
    "    total_samples = len(data_loader.dataset)\n",
    "    correct_samples = 0\n",
    "    test_loss = 0\n",
    "    \n",
    "    with torch.no_grad():\n",
    "        pbar = tqdm.tqdm(data_loader)\n",
    "        for batch_idx, (data, target) in enumerate(pbar):\n",
    "            output = model(data)\n",
    "            # Analyze the result\n",
    "            loss = loss_fn(output, target) # The loss\n",
    "            _, pred = torch.max(output, dim=1) # The predicted class\n",
    "            \n",
    "            # Update the train_loss\n",
    "            test_loss = 1./(batch_idx+1) * (batch_idx*test_loss + loss.data.item())\n",
    "            # Display\n",
    "            pbar.set_description(\"Current training loss %.4f\" % test_loss)\n",
    "            # Accumulate\n",
    "            correct_samples += pred.eq(target).sum()\n",
    "            \n",
    "    \n",
    "    loss_history.append(test_loss)\n",
    "    print('\\nAverage test loss: ' + '{:.4f}'.format(test_loss) +\n",
    "          '  Accuracy:' + '{:5}'.format(correct_samples) + '/' +\n",
    "          '{:5}'.format(total_samples) + ' (' +\n",
    "          '{:4.2f}'.format(100.0 * correct_samples / total_samples) + '%)\\n')"
   ]
  },
  {
   "cell_type": "markdown",
   "id": "202f8e0d",
   "metadata": {},
   "source": [
    "## Generate the Model (ViT) and Train"
   ]
  },
  {
   "cell_type": "markdown",
   "id": "26bbd65a",
   "metadata": {},
   "source": [
    "A ViT model"
   ]
  },
  {
   "cell_type": "code",
   "execution_count": 5,
   "id": "daead803",
   "metadata": {},
   "outputs": [],
   "source": [
    "# Instantiate a model\n",
    "model_vit = ViT(image_size=28, patch_size=7, num_classes=10, channels=1,\n",
    "            dim=18, depth=2, heads=2, mlp_dim=25)\n",
    "optimizer_vit = torch.optim.Adam(model_vit.parameters(), lr=0.003)\n",
    "loss_fn_vit = torch.nn.CrossEntropyLoss()\n",
    "#\n",
    "# print(model_vit)"
   ]
  },
  {
   "cell_type": "code",
   "execution_count": 6,
   "id": "6ee0807c",
   "metadata": {
    "scrolled": true
   },
   "outputs": [],
   "source": [
    "# # Instantiate a model\n",
    "# model_vit = ViT(image_size=28, patch_size=4, num_classes=10, channels=1,\n",
    "#             dim=18, depth=6, heads=2, mlp_dim=25)\n",
    "# optimizer_vit = torch.optim.Adam(model_vit.parameters(), lr=0.003)\n",
    "# loss_fn_vit = torch.nn.CrossEntropyLoss()\n",
    "# #\n",
    "# # print(model_vit)"
   ]
  },
  {
   "cell_type": "markdown",
   "id": "a7bb512f",
   "metadata": {},
   "source": [
    "A simple CNN model"
   ]
  },
  {
   "cell_type": "code",
   "execution_count": 7,
   "id": "646a8c4a",
   "metadata": {},
   "outputs": [],
   "source": [
    "from torch import nn\n",
    "import torch.nn.functional as F\n",
    "class CNNnet(nn.Module):\n",
    "    def __init__(self):\n",
    "        super(CNNnet, self).__init__()\n",
    "        self.conv1 = nn.Conv2d(1, 10, kernel_size=5)\n",
    "        self.conv2 = nn.Conv2d(10, 20, kernel_size=5)\n",
    "        self.conv2_drop = nn.Dropout2d()\n",
    "        self.fc1 = nn.Linear(320, 50)\n",
    "        self.fc2 = nn.Linear(50, 10)\n",
    "\n",
    "    def forward(self, x):\n",
    "        x = F.relu(F.max_pool2d(self.conv1(x), 2))\n",
    "        x = F.relu(F.max_pool2d(self.conv2_drop(self.conv2(x)), 2))\n",
    "        x = x.view(-1, 320)\n",
    "        x = F.relu(self.fc1(x))\n",
    "        x = F.dropout(x, training=self.training)\n",
    "        x = self.fc2(x)\n",
    "        # return F.log_softmax(x)\n",
    "        return x # directly output the score"
   ]
  },
  {
   "cell_type": "code",
   "execution_count": 8,
   "id": "dcc41123",
   "metadata": {},
   "outputs": [],
   "source": [
    "# Instantiate a model\n",
    "model_cnn = CNNnet()\n",
    "optimizer_cnn = torch.optim.Adam(model_cnn.parameters(), lr=0.003)\n",
    "loss_fn_cnn = torch.nn.CrossEntropyLoss()"
   ]
  },
  {
   "cell_type": "markdown",
   "id": "f625d19a",
   "metadata": {},
   "source": [
    "## Model Size"
   ]
  },
  {
   "cell_type": "markdown",
   "id": "71e1d2b3",
   "metadata": {},
   "source": [
    "The tool for measuring the model size"
   ]
  },
  {
   "cell_type": "code",
   "execution_count": 9,
   "id": "003d750c",
   "metadata": {},
   "outputs": [],
   "source": [
    "def get_model_size(model):\n",
    "    param_size = 0\n",
    "    for param in model.parameters():\n",
    "        param_size += param.nelement() * param.element_size()\n",
    "    buffer_size = 0\n",
    "    for buffer in model.buffers():\n",
    "        buffer_size += buffer.nelement() * buffer.element_size()\n",
    "\n",
    "    # The total size\n",
    "    total_size = param_size + buffer_size\n",
    "    # The scaling for display\n",
    "    if total_size >= 1024**2:\n",
    "        size_level = 'MB'\n",
    "        size_scale = 1.0/1024**2\n",
    "    else:\n",
    "        size_level = 'kB'\n",
    "        size_scale = 1.0/1024\n",
    "    print('='*30)\n",
    "    print(f'model paramater size: {(param_size*size_scale) :.3f}{size_level}')\n",
    "    print(f'model buffer size: {(buffer_size*size_scale) :.3f}{size_level}')\n",
    "    print('-'*30)\n",
    "    print(f'model buffer size: {(total_size*size_scale) :.3f}{size_level}')\n",
    "    print('='*30)"
   ]
  },
  {
   "cell_type": "markdown",
   "id": "613825ce",
   "metadata": {},
   "source": [
    "Check the model sizes"
   ]
  },
  {
   "cell_type": "code",
   "execution_count": 10,
   "id": "21f4d69f",
   "metadata": {},
   "outputs": [
    {
     "name": "stdout",
     "output_type": "stream",
     "text": [
      "==============================\n",
      "model paramater size: 85.734kB\n",
      "model buffer size: 0.000kB\n",
      "------------------------------\n",
      "model buffer size: 85.734kB\n",
      "==============================\n"
     ]
    }
   ],
   "source": [
    "get_model_size(model_vit)"
   ]
  },
  {
   "cell_type": "code",
   "execution_count": 11,
   "id": "ef10b84f",
   "metadata": {},
   "outputs": [
    {
     "name": "stdout",
     "output_type": "stream",
     "text": [
      "==============================\n",
      "model paramater size: 85.312kB\n",
      "model buffer size: 0.000kB\n",
      "------------------------------\n",
      "model buffer size: 85.312kB\n",
      "==============================\n"
     ]
    }
   ],
   "source": [
    "get_model_size(model_cnn)"
   ]
  },
  {
   "cell_type": "markdown",
   "id": "3fd96b85",
   "metadata": {},
   "source": [
    "## Train the Mode"
   ]
  },
  {
   "cell_type": "code",
   "execution_count": 12,
   "id": "8ead9260",
   "metadata": {
    "scrolled": true
   },
   "outputs": [],
   "source": [
    "def train_loop(model, optimizer, loss_fn, train_loader, test_loader, n_epochs=10):\n",
    "    start_time = time.time()\n",
    "    train_loss_history, test_loss_history = list(), list()\n",
    "    for epoch in range(1, n_epochs+1):\n",
    "        print('EPOCH:', epoch)\n",
    "        train_epoch(model, optimizer, loss_fn, train_loader, train_loss_history)\n",
    "        evaluate(model, loss_fn, test_loader, test_loss_history)\n",
    "\n",
    "    print('Execution time:', '{:5.2f}'.format(time.time() - start_time), 'seconds')\n",
    "    return model"
   ]
  },
  {
   "cell_type": "markdown",
   "id": "ec5e4ffb",
   "metadata": {},
   "source": [
    "The ViT model"
   ]
  },
  {
   "cell_type": "code",
   "execution_count": 13,
   "id": "e541cf16",
   "metadata": {
    "scrolled": true
   },
   "outputs": [
    {
     "name": "stdout",
     "output_type": "stream",
     "text": [
      "EPOCH: 1\n"
     ]
    },
    {
     "name": "stderr",
     "output_type": "stream",
     "text": [
      "Current training loss 0.7678: 100%|██████████████████████████████████████████████████| 600/600 [00:30<00:00, 19.94it/s]\n"
     ]
    },
    {
     "name": "stdout",
     "output_type": "stream",
     "text": [
      "\n",
      "Average training loss: 0.7678\n"
     ]
    },
    {
     "name": "stderr",
     "output_type": "stream",
     "text": [
      "Current training loss 0.5481: 100%|██████████████████████████████████████████████████| 100/100 [00:03<00:00, 31.83it/s]\n"
     ]
    },
    {
     "name": "stdout",
     "output_type": "stream",
     "text": [
      "\n",
      "Average test loss: 0.5481  Accuracy: 8051/10000 (80.51%)\n",
      "\n",
      "EPOCH: 2\n"
     ]
    },
    {
     "name": "stderr",
     "output_type": "stream",
     "text": [
      "Current training loss 0.5029: 100%|██████████████████████████████████████████████████| 600/600 [00:30<00:00, 19.85it/s]\n"
     ]
    },
    {
     "name": "stdout",
     "output_type": "stream",
     "text": [
      "\n",
      "Average training loss: 0.5029\n"
     ]
    },
    {
     "name": "stderr",
     "output_type": "stream",
     "text": [
      "Current training loss 0.4772: 100%|██████████████████████████████████████████████████| 100/100 [00:03<00:00, 32.58it/s]\n"
     ]
    },
    {
     "name": "stdout",
     "output_type": "stream",
     "text": [
      "\n",
      "Average test loss: 0.4772  Accuracy: 8280/10000 (82.80%)\n",
      "\n",
      "EPOCH: 3\n"
     ]
    },
    {
     "name": "stderr",
     "output_type": "stream",
     "text": [
      "Current training loss 0.4598: 100%|██████████████████████████████████████████████████| 600/600 [00:31<00:00, 19.06it/s]\n"
     ]
    },
    {
     "name": "stdout",
     "output_type": "stream",
     "text": [
      "\n",
      "Average training loss: 0.4598\n"
     ]
    },
    {
     "name": "stderr",
     "output_type": "stream",
     "text": [
      "Current training loss 0.4594: 100%|██████████████████████████████████████████████████| 100/100 [00:03<00:00, 30.30it/s]\n"
     ]
    },
    {
     "name": "stdout",
     "output_type": "stream",
     "text": [
      "\n",
      "Average test loss: 0.4594  Accuracy: 8337/10000 (83.37%)\n",
      "\n",
      "EPOCH: 4\n"
     ]
    },
    {
     "name": "stderr",
     "output_type": "stream",
     "text": [
      "Current training loss 0.4361: 100%|██████████████████████████████████████████████████| 600/600 [00:33<00:00, 17.87it/s]\n"
     ]
    },
    {
     "name": "stdout",
     "output_type": "stream",
     "text": [
      "\n",
      "Average training loss: 0.4361\n"
     ]
    },
    {
     "name": "stderr",
     "output_type": "stream",
     "text": [
      "Current training loss 0.4787: 100%|██████████████████████████████████████████████████| 100/100 [00:03<00:00, 30.28it/s]\n"
     ]
    },
    {
     "name": "stdout",
     "output_type": "stream",
     "text": [
      "\n",
      "Average test loss: 0.4787  Accuracy: 8292/10000 (82.92%)\n",
      "\n",
      "EPOCH: 5\n"
     ]
    },
    {
     "name": "stderr",
     "output_type": "stream",
     "text": [
      "Current training loss 0.4197: 100%|██████████████████████████████████████████████████| 600/600 [00:33<00:00, 17.83it/s]\n"
     ]
    },
    {
     "name": "stdout",
     "output_type": "stream",
     "text": [
      "\n",
      "Average training loss: 0.4197\n"
     ]
    },
    {
     "name": "stderr",
     "output_type": "stream",
     "text": [
      "Current training loss 0.4387: 100%|██████████████████████████████████████████████████| 100/100 [00:03<00:00, 32.61it/s]\n"
     ]
    },
    {
     "name": "stdout",
     "output_type": "stream",
     "text": [
      "\n",
      "Average test loss: 0.4387  Accuracy: 8421/10000 (84.21%)\n",
      "\n",
      "EPOCH: 6\n"
     ]
    },
    {
     "name": "stderr",
     "output_type": "stream",
     "text": [
      "Current training loss 0.4092: 100%|██████████████████████████████████████████████████| 600/600 [00:31<00:00, 19.30it/s]\n"
     ]
    },
    {
     "name": "stdout",
     "output_type": "stream",
     "text": [
      "\n",
      "Average training loss: 0.4092\n"
     ]
    },
    {
     "name": "stderr",
     "output_type": "stream",
     "text": [
      "Current training loss 0.4358: 100%|██████████████████████████████████████████████████| 100/100 [00:03<00:00, 31.91it/s]\n"
     ]
    },
    {
     "name": "stdout",
     "output_type": "stream",
     "text": [
      "\n",
      "Average test loss: 0.4358  Accuracy: 8440/10000 (84.40%)\n",
      "\n",
      "EPOCH: 7\n"
     ]
    },
    {
     "name": "stderr",
     "output_type": "stream",
     "text": [
      "Current training loss 0.3977: 100%|██████████████████████████████████████████████████| 600/600 [00:31<00:00, 18.97it/s]\n"
     ]
    },
    {
     "name": "stdout",
     "output_type": "stream",
     "text": [
      "\n",
      "Average training loss: 0.3977\n"
     ]
    },
    {
     "name": "stderr",
     "output_type": "stream",
     "text": [
      "Current training loss 0.4147: 100%|██████████████████████████████████████████████████| 100/100 [00:03<00:00, 26.59it/s]\n"
     ]
    },
    {
     "name": "stdout",
     "output_type": "stream",
     "text": [
      "\n",
      "Average test loss: 0.4147  Accuracy: 8478/10000 (84.78%)\n",
      "\n",
      "EPOCH: 8\n"
     ]
    },
    {
     "name": "stderr",
     "output_type": "stream",
     "text": [
      "Current training loss 0.3899: 100%|██████████████████████████████████████████████████| 600/600 [00:31<00:00, 18.77it/s]\n"
     ]
    },
    {
     "name": "stdout",
     "output_type": "stream",
     "text": [
      "\n",
      "Average training loss: 0.3899\n"
     ]
    },
    {
     "name": "stderr",
     "output_type": "stream",
     "text": [
      "Current training loss 0.4138: 100%|██████████████████████████████████████████████████| 100/100 [00:03<00:00, 32.56it/s]\n"
     ]
    },
    {
     "name": "stdout",
     "output_type": "stream",
     "text": [
      "\n",
      "Average test loss: 0.4138  Accuracy: 8497/10000 (84.97%)\n",
      "\n",
      "EPOCH: 9\n"
     ]
    },
    {
     "name": "stderr",
     "output_type": "stream",
     "text": [
      "Current training loss 0.3833: 100%|██████████████████████████████████████████████████| 600/600 [00:31<00:00, 19.30it/s]\n"
     ]
    },
    {
     "name": "stdout",
     "output_type": "stream",
     "text": [
      "\n",
      "Average training loss: 0.3833\n"
     ]
    },
    {
     "name": "stderr",
     "output_type": "stream",
     "text": [
      "Current training loss 0.4400: 100%|██████████████████████████████████████████████████| 100/100 [00:03<00:00, 30.50it/s]\n"
     ]
    },
    {
     "name": "stdout",
     "output_type": "stream",
     "text": [
      "\n",
      "Average test loss: 0.4400  Accuracy: 8421/10000 (84.21%)\n",
      "\n",
      "EPOCH: 10\n"
     ]
    },
    {
     "name": "stderr",
     "output_type": "stream",
     "text": [
      "Current training loss 0.3783: 100%|██████████████████████████████████████████████████| 600/600 [00:32<00:00, 18.65it/s]\n"
     ]
    },
    {
     "name": "stdout",
     "output_type": "stream",
     "text": [
      "\n",
      "Average training loss: 0.3783\n"
     ]
    },
    {
     "name": "stderr",
     "output_type": "stream",
     "text": [
      "Current training loss 0.4185: 100%|██████████████████████████████████████████████████| 100/100 [00:03<00:00, 33.31it/s]"
     ]
    },
    {
     "name": "stdout",
     "output_type": "stream",
     "text": [
      "\n",
      "Average test loss: 0.4185  Accuracy: 8491/10000 (84.91%)\n",
      "\n",
      "Execution time: 349.26 seconds\n"
     ]
    },
    {
     "name": "stderr",
     "output_type": "stream",
     "text": [
      "\n"
     ]
    },
    {
     "data": {
      "text/plain": [
       "ViT(\n",
       "  (to_patch_embedding): Sequential(\n",
       "    (0): Rearrange('b c (h p1) (w p2) -> b (h w) (p1 p2 c)', p1=7, p2=7)\n",
       "    (1): Linear(in_features=49, out_features=18, bias=True)\n",
       "  )\n",
       "  (dropout): Dropout(p=0.0, inplace=False)\n",
       "  (transformer): Transformer(\n",
       "    (layers): ModuleList(\n",
       "      (0): ModuleList(\n",
       "        (0): PreNorm(\n",
       "          (norm): LayerNorm((18,), eps=1e-05, elementwise_affine=True)\n",
       "          (fn): Attention(\n",
       "            (attend): Softmax(dim=-1)\n",
       "            (dropout): Dropout(p=0.0, inplace=False)\n",
       "            (to_qkv): Linear(in_features=18, out_features=384, bias=False)\n",
       "            (to_out): Sequential(\n",
       "              (0): Linear(in_features=128, out_features=18, bias=True)\n",
       "              (1): Dropout(p=0.0, inplace=False)\n",
       "            )\n",
       "          )\n",
       "        )\n",
       "        (1): PreNorm(\n",
       "          (norm): LayerNorm((18,), eps=1e-05, elementwise_affine=True)\n",
       "          (fn): FeedForward(\n",
       "            (net): Sequential(\n",
       "              (0): Linear(in_features=18, out_features=25, bias=True)\n",
       "              (1): GELU()\n",
       "              (2): Dropout(p=0.0, inplace=False)\n",
       "              (3): Linear(in_features=25, out_features=18, bias=True)\n",
       "              (4): Dropout(p=0.0, inplace=False)\n",
       "            )\n",
       "          )\n",
       "        )\n",
       "      )\n",
       "      (1): ModuleList(\n",
       "        (0): PreNorm(\n",
       "          (norm): LayerNorm((18,), eps=1e-05, elementwise_affine=True)\n",
       "          (fn): Attention(\n",
       "            (attend): Softmax(dim=-1)\n",
       "            (dropout): Dropout(p=0.0, inplace=False)\n",
       "            (to_qkv): Linear(in_features=18, out_features=384, bias=False)\n",
       "            (to_out): Sequential(\n",
       "              (0): Linear(in_features=128, out_features=18, bias=True)\n",
       "              (1): Dropout(p=0.0, inplace=False)\n",
       "            )\n",
       "          )\n",
       "        )\n",
       "        (1): PreNorm(\n",
       "          (norm): LayerNorm((18,), eps=1e-05, elementwise_affine=True)\n",
       "          (fn): FeedForward(\n",
       "            (net): Sequential(\n",
       "              (0): Linear(in_features=18, out_features=25, bias=True)\n",
       "              (1): GELU()\n",
       "              (2): Dropout(p=0.0, inplace=False)\n",
       "              (3): Linear(in_features=25, out_features=18, bias=True)\n",
       "              (4): Dropout(p=0.0, inplace=False)\n",
       "            )\n",
       "          )\n",
       "        )\n",
       "      )\n",
       "    )\n",
       "  )\n",
       "  (to_latent): Identity()\n",
       "  (mlp_head): Sequential(\n",
       "    (0): LayerNorm((18,), eps=1e-05, elementwise_affine=True)\n",
       "    (1): Linear(in_features=18, out_features=10, bias=True)\n",
       "  )\n",
       ")"
      ]
     },
     "execution_count": 13,
     "metadata": {},
     "output_type": "execute_result"
    }
   ],
   "source": [
    "train_loop(model_vit, optimizer_vit, loss_fn_vit, train_loader, test_loader, n_epochs=10)"
   ]
  },
  {
   "cell_type": "markdown",
   "id": "ad135f6c",
   "metadata": {},
   "source": [
    "The CNN model"
   ]
  },
  {
   "cell_type": "code",
   "execution_count": 14,
   "id": "ccbca5f5",
   "metadata": {
    "scrolled": true
   },
   "outputs": [
    {
     "name": "stdout",
     "output_type": "stream",
     "text": [
      "EPOCH: 1\n"
     ]
    },
    {
     "name": "stderr",
     "output_type": "stream",
     "text": [
      "Current training loss 0.8813: 100%|██████████████████████████████████████████████████| 600/600 [00:22<00:00, 26.93it/s]\n"
     ]
    },
    {
     "name": "stdout",
     "output_type": "stream",
     "text": [
      "\n",
      "Average training loss: 0.8813\n"
     ]
    },
    {
     "name": "stderr",
     "output_type": "stream",
     "text": [
      "Current training loss 0.5213: 100%|██████████████████████████████████████████████████| 100/100 [00:03<00:00, 33.17it/s]\n"
     ]
    },
    {
     "name": "stdout",
     "output_type": "stream",
     "text": [
      "\n",
      "Average test loss: 0.5213  Accuracy: 7930/10000 (79.30%)\n",
      "\n",
      "EPOCH: 2\n"
     ]
    },
    {
     "name": "stderr",
     "output_type": "stream",
     "text": [
      "Current training loss 0.6352: 100%|██████████████████████████████████████████████████| 600/600 [00:24<00:00, 24.56it/s]\n"
     ]
    },
    {
     "name": "stdout",
     "output_type": "stream",
     "text": [
      "\n",
      "Average training loss: 0.6352\n"
     ]
    },
    {
     "name": "stderr",
     "output_type": "stream",
     "text": [
      "Current training loss 0.4536: 100%|██████████████████████████████████████████████████| 100/100 [00:02<00:00, 35.62it/s]\n"
     ]
    },
    {
     "name": "stdout",
     "output_type": "stream",
     "text": [
      "\n",
      "Average test loss: 0.4536  Accuracy: 8309/10000 (83.09%)\n",
      "\n",
      "EPOCH: 3\n"
     ]
    },
    {
     "name": "stderr",
     "output_type": "stream",
     "text": [
      "Current training loss 0.5739: 100%|██████████████████████████████████████████████████| 600/600 [00:23<00:00, 25.41it/s]\n"
     ]
    },
    {
     "name": "stdout",
     "output_type": "stream",
     "text": [
      "\n",
      "Average training loss: 0.5739\n"
     ]
    },
    {
     "name": "stderr",
     "output_type": "stream",
     "text": [
      "Current training loss 0.4161: 100%|██████████████████████████████████████████████████| 100/100 [00:02<00:00, 37.22it/s]\n"
     ]
    },
    {
     "name": "stdout",
     "output_type": "stream",
     "text": [
      "\n",
      "Average test loss: 0.4161  Accuracy: 8434/10000 (84.34%)\n",
      "\n",
      "EPOCH: 4\n"
     ]
    },
    {
     "name": "stderr",
     "output_type": "stream",
     "text": [
      "Current training loss 0.5348: 100%|██████████████████████████████████████████████████| 600/600 [00:24<00:00, 24.04it/s]\n"
     ]
    },
    {
     "name": "stdout",
     "output_type": "stream",
     "text": [
      "\n",
      "Average training loss: 0.5348\n"
     ]
    },
    {
     "name": "stderr",
     "output_type": "stream",
     "text": [
      "Current training loss 0.3997: 100%|██████████████████████████████████████████████████| 100/100 [00:02<00:00, 34.67it/s]\n"
     ]
    },
    {
     "name": "stdout",
     "output_type": "stream",
     "text": [
      "\n",
      "Average test loss: 0.3997  Accuracy: 8472/10000 (84.72%)\n",
      "\n",
      "EPOCH: 5\n"
     ]
    },
    {
     "name": "stderr",
     "output_type": "stream",
     "text": [
      "Current training loss 0.5120: 100%|██████████████████████████████████████████████████| 600/600 [00:23<00:00, 25.65it/s]\n"
     ]
    },
    {
     "name": "stdout",
     "output_type": "stream",
     "text": [
      "\n",
      "Average training loss: 0.5120\n"
     ]
    },
    {
     "name": "stderr",
     "output_type": "stream",
     "text": [
      "Current training loss 0.3767: 100%|██████████████████████████████████████████████████| 100/100 [00:02<00:00, 36.15it/s]\n"
     ]
    },
    {
     "name": "stdout",
     "output_type": "stream",
     "text": [
      "\n",
      "Average test loss: 0.3767  Accuracy: 8576/10000 (85.76%)\n",
      "\n",
      "EPOCH: 6\n"
     ]
    },
    {
     "name": "stderr",
     "output_type": "stream",
     "text": [
      "Current training loss 0.5006: 100%|██████████████████████████████████████████████████| 600/600 [00:25<00:00, 23.56it/s]\n"
     ]
    },
    {
     "name": "stdout",
     "output_type": "stream",
     "text": [
      "\n",
      "Average training loss: 0.5006\n"
     ]
    },
    {
     "name": "stderr",
     "output_type": "stream",
     "text": [
      "Current training loss 0.3775: 100%|██████████████████████████████████████████████████| 100/100 [00:03<00:00, 28.86it/s]\n"
     ]
    },
    {
     "name": "stdout",
     "output_type": "stream",
     "text": [
      "\n",
      "Average test loss: 0.3775  Accuracy: 8599/10000 (85.99%)\n",
      "\n",
      "EPOCH: 7\n"
     ]
    },
    {
     "name": "stderr",
     "output_type": "stream",
     "text": [
      "Current training loss 0.4849: 100%|██████████████████████████████████████████████████| 600/600 [00:23<00:00, 25.30it/s]\n"
     ]
    },
    {
     "name": "stdout",
     "output_type": "stream",
     "text": [
      "\n",
      "Average training loss: 0.4849\n"
     ]
    },
    {
     "name": "stderr",
     "output_type": "stream",
     "text": [
      "Current training loss 0.3672: 100%|██████████████████████████████████████████████████| 100/100 [00:02<00:00, 33.73it/s]\n"
     ]
    },
    {
     "name": "stdout",
     "output_type": "stream",
     "text": [
      "\n",
      "Average test loss: 0.3672  Accuracy: 8631/10000 (86.31%)\n",
      "\n",
      "EPOCH: 8\n"
     ]
    },
    {
     "name": "stderr",
     "output_type": "stream",
     "text": [
      "Current training loss 0.4780: 100%|██████████████████████████████████████████████████| 600/600 [00:23<00:00, 25.79it/s]\n"
     ]
    },
    {
     "name": "stdout",
     "output_type": "stream",
     "text": [
      "\n",
      "Average training loss: 0.4780\n"
     ]
    },
    {
     "name": "stderr",
     "output_type": "stream",
     "text": [
      "Current training loss 0.3617: 100%|██████████████████████████████████████████████████| 100/100 [00:02<00:00, 34.18it/s]\n"
     ]
    },
    {
     "name": "stdout",
     "output_type": "stream",
     "text": [
      "\n",
      "Average test loss: 0.3617  Accuracy: 8630/10000 (86.30%)\n",
      "\n",
      "EPOCH: 9\n"
     ]
    },
    {
     "name": "stderr",
     "output_type": "stream",
     "text": [
      "Current training loss 0.4758: 100%|██████████████████████████████████████████████████| 600/600 [00:23<00:00, 25.95it/s]\n"
     ]
    },
    {
     "name": "stdout",
     "output_type": "stream",
     "text": [
      "\n",
      "Average training loss: 0.4758\n"
     ]
    },
    {
     "name": "stderr",
     "output_type": "stream",
     "text": [
      "Current training loss 0.3652: 100%|██████████████████████████████████████████████████| 100/100 [00:02<00:00, 35.84it/s]\n"
     ]
    },
    {
     "name": "stdout",
     "output_type": "stream",
     "text": [
      "\n",
      "Average test loss: 0.3652  Accuracy: 8656/10000 (86.56%)\n",
      "\n",
      "EPOCH: 10\n"
     ]
    },
    {
     "name": "stderr",
     "output_type": "stream",
     "text": [
      "Current training loss 0.4712: 100%|██████████████████████████████████████████████████| 600/600 [00:23<00:00, 26.03it/s]\n"
     ]
    },
    {
     "name": "stdout",
     "output_type": "stream",
     "text": [
      "\n",
      "Average training loss: 0.4712\n"
     ]
    },
    {
     "name": "stderr",
     "output_type": "stream",
     "text": [
      "Current training loss 0.3524: 100%|██████████████████████████████████████████████████| 100/100 [00:03<00:00, 32.96it/s]"
     ]
    },
    {
     "name": "stdout",
     "output_type": "stream",
     "text": [
      "\n",
      "Average test loss: 0.3524  Accuracy: 8710/10000 (87.10%)\n",
      "\n",
      "Execution time: 266.73 seconds\n"
     ]
    },
    {
     "name": "stderr",
     "output_type": "stream",
     "text": [
      "\n"
     ]
    },
    {
     "data": {
      "text/plain": [
       "CNNnet(\n",
       "  (conv1): Conv2d(1, 10, kernel_size=(5, 5), stride=(1, 1))\n",
       "  (conv2): Conv2d(10, 20, kernel_size=(5, 5), stride=(1, 1))\n",
       "  (conv2_drop): Dropout2d(p=0.5, inplace=False)\n",
       "  (fc1): Linear(in_features=320, out_features=50, bias=True)\n",
       "  (fc2): Linear(in_features=50, out_features=10, bias=True)\n",
       ")"
      ]
     },
     "execution_count": 14,
     "metadata": {},
     "output_type": "execute_result"
    }
   ],
   "source": [
    "train_loop(model_cnn, optimizer_cnn, loss_fn_cnn, train_loader, test_loader, n_epochs=10)"
   ]
  },
  {
   "cell_type": "code",
   "execution_count": null,
   "id": "a824bae3",
   "metadata": {},
   "outputs": [],
   "source": []
  },
  {
   "cell_type": "markdown",
   "id": "c2027f19",
   "metadata": {},
   "source": [
    "## Test"
   ]
  },
  {
   "cell_type": "code",
   "execution_count": 15,
   "id": "14e50ff1",
   "metadata": {},
   "outputs": [],
   "source": [
    "def get_prediction(model, data_batch):\n",
    "    # Prediction by model, in batch\n",
    "    model.eval()\n",
    "    pred_scores = model(data_batch)\n",
    "    _, preds = torch.max(pred_scores, dim=1) # The predicted class\n",
    "    return preds"
   ]
  },
  {
   "cell_type": "code",
   "execution_count": 16,
   "id": "65ec7f46",
   "metadata": {},
   "outputs": [],
   "source": [
    "def plot_image_tiles(images, preds, labels):\n",
    "    # plot the first 20 images in the batch, along with the corresponding labels and predictions\n",
    "    fig = plt.figure(figsize=(25, 4))\n",
    "    for idx in np.arange(20):\n",
    "        ax = fig.add_subplot(2, 20//2, idx+1, xticks=[], yticks=[])\n",
    "        plt.imshow(np.transpose(images[idx], (1, 2, 0))) # (c,h,w) --> (h,w,c)\n",
    "        ax.set_title(f'p:{preds[idx]}' + (f' gt:{labels[idx]} (x)' if preds[idx]!=labels[idx] else ''))"
   ]
  },
  {
   "cell_type": "code",
   "execution_count": 17,
   "id": "dfbf3aeb",
   "metadata": {},
   "outputs": [
    {
     "name": "stdout",
     "output_type": "stream",
     "text": [
      "\n",
      "images[0,0,0,0] = 0.0\n",
      "\n",
      "\n",
      "images[0].mean() = 0.2693927586078644\n",
      "\n"
     ]
    },
    {
     "data": {
      "image/png": "[encoded data removed]",
      "text/plain": [
       "<Figure size 1800x288 with 20 Axes>"
      ]
     },
     "metadata": {},
     "output_type": "display_data"
    },
    {
     "data": {
      "image/png": "[encoded data removed]",
      "text/plain": [
       "<Figure size 1800x288 with 20 Axes>"
      ]
     },
     "metadata": {},
     "output_type": "display_data"
    }
   ],
   "source": [
    "# Visualize some training data\n",
    "# obtain one batch of training images\n",
    "dataiter = iter( test_loader )\n",
    "images_tensor, labels = dataiter.next()\n",
    "images = images_tensor.numpy() # convert images to numpy for display\n",
    "\n",
    "print(f'\\nimages[0,0,0,0] = {images[0,0,0,0]}\\n')\n",
    "print(f'\\nimages[0].mean() = {images[0].mean()}\\n')\n",
    "\n",
    "# Prediction by model, in batch\n",
    "preds_vit = get_prediction(model_vit, images_tensor)\n",
    "preds_cnn = get_prediction(model_cnn, images_tensor)\n",
    "\n",
    "# print(f'{preds_vit = }')\n",
    "# print(f'{preds_cnn = }')\n",
    "\n",
    "\n",
    "# plot the first 20 images in the batch, along with the corresponding labels and predictions\n",
    "# fig = plt.figure(figsize=(25, 4))\n",
    "# for idx in np.arange(20):\n",
    "#     ax = fig.add_subplot(2, 20//2, idx+1, xticks=[], yticks=[])\n",
    "#     plt.imshow(np.transpose(images[idx], (1, 2, 0))) # (c,h,w) --> (h,w,c)\n",
    "#     ax.set_title(f'p:{preds[idx]}' + (f' gt:{labels[idx]} (x)' if preds[idx]!=labels[idx] else ''))\n",
    "\n",
    "plot_image_tiles(images, preds_vit, labels)\n",
    "plot_image_tiles(images, preds_cnn, labels)"
   ]
  },
  {
   "cell_type": "markdown",
   "id": "8eb333c3",
   "metadata": {},
   "source": [
    "## Calculate the Model Size"
   ]
  },
  {
   "cell_type": "code",
   "execution_count": null,
   "id": "cb7e30a5",
   "metadata": {},
   "outputs": [],
   "source": []
  }
 ],
 "metadata": {
  "kernelspec": {
   "display_name": "Python 3",
   "language": "python",
   "name": "python3"
  },
  "language_info": {
   "codemirror_mode": {
    "name": "ipython",
    "version": 3
   },
   "file_extension": ".py",
   "mimetype": "text/x-python",
   "name": "python",
   "nbconvert_exporter": "python",
   "pygments_lexer": "ipython3",
   "version": "3.10.0"
  }
 },
 "nbformat": 4,
 "nbformat_minor": 5
}
